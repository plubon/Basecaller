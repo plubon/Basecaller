{
 "cells": [
  {
   "cell_type": "code",
   "execution_count": 6,
   "metadata": {},
   "outputs": [],
   "source": [
    "from Levenshtein import distance, editops\n",
    "from keras.models import load_model\n",
    "from DatasetManager import SignalSequence, BoundarySequence\n",
    "from Network import ctc_lambda_func\n",
    "from keras.utils import plot_model\n",
    "import keras.backend as K\n",
    "import numpy as np"
   ]
  },
  {
   "cell_type": "code",
   "execution_count": 7,
   "metadata": {},
   "outputs": [],
   "source": [
    "test_files = []\n",
    "with open('runs/2019-04-01 20:02:50.368370/test.txt') as f:\n",
    "    test_files = [x[5:].strip() for x in f.readlines()]\n",
    "test = {'chrM':test_files}\n",
    "test_len = sum([len(test[x]) for x in test.keys()])\n",
    "test_seq = BoundarySequence(test, number_of_reads=test_len)\n",
    "model = load_model('runs/2019-04-01 20:02:50.368370/model.h5', custom_objects = {'<lambda>': lambda y_true, y_pred: y_pred})"
   ]
  },
  {
   "cell_type": "code",
   "execution_count": 8,
   "metadata": {},
   "outputs": [],
   "source": [
    "from keras.utils import plot_model\n",
    "plot_model(model, to_file='model.png')\n",
    "plot_model(model.get_layer('model_1'), to_file='model1.png')"
   ]
  },
  {
   "cell_type": "code",
   "execution_count": 11,
   "metadata": {},
   "outputs": [
    {
     "ename": "OSError",
     "evalue": "Unable to open file (unable to open file: name = '/../Dane/squiggled/chr17/sdfag_20161028_FNFAB42704_MN16454_sequencing_run_Chip103_Genomic_R9_4_450bps_tune_13428_ch102_read168_strand.fast5', errno = 2, error message = 'No such file or directory', flags = 0, o_flags = 0)",
     "output_type": "error",
     "traceback": [
      "\u001b[0;31m---------------------------------------------------------------------------\u001b[0m",
      "\u001b[0;31mOSError\u001b[0m                                   Traceback (most recent call last)",
      "\u001b[0;32m<ipython-input-11-90834c0c77c4>\u001b[0m in \u001b[0;36m<module>\u001b[0;34m\u001b[0m\n\u001b[1;32m      2\u001b[0m \u001b[0msub_model\u001b[0m \u001b[0;34m=\u001b[0m \u001b[0mmodel\u001b[0m\u001b[0;34m.\u001b[0m\u001b[0mget_layer\u001b[0m\u001b[0;34m(\u001b[0m\u001b[0;34m'model_1'\u001b[0m\u001b[0;34m)\u001b[0m\u001b[0;34m\u001b[0m\u001b[0;34m\u001b[0m\u001b[0m\n\u001b[1;32m      3\u001b[0m \u001b[0mim_model\u001b[0m \u001b[0;34m=\u001b[0m \u001b[0mModel\u001b[0m\u001b[0;34m(\u001b[0m\u001b[0minputs\u001b[0m\u001b[0;34m=\u001b[0m\u001b[0msub_model\u001b[0m\u001b[0;34m.\u001b[0m\u001b[0mget_input_at\u001b[0m\u001b[0;34m(\u001b[0m\u001b[0;36m0\u001b[0m\u001b[0;34m)\u001b[0m\u001b[0;34m,\u001b[0m \u001b[0moutputs\u001b[0m \u001b[0;34m=\u001b[0m\u001b[0msub_model\u001b[0m\u001b[0;34m.\u001b[0m\u001b[0mget_layer\u001b[0m\u001b[0;34m(\u001b[0m\u001b[0;34m'activation_1'\u001b[0m\u001b[0;34m)\u001b[0m\u001b[0;34m.\u001b[0m\u001b[0moutput\u001b[0m\u001b[0;34m)\u001b[0m\u001b[0;34m\u001b[0m\u001b[0;34m\u001b[0m\u001b[0m\n\u001b[0;32m----> 4\u001b[0;31m \u001b[0mpreds\u001b[0m \u001b[0;34m=\u001b[0m \u001b[0mim_model\u001b[0m\u001b[0;34m.\u001b[0m\u001b[0mpredict_on_batch\u001b[0m\u001b[0;34m(\u001b[0m\u001b[0mtest_seq\u001b[0m\u001b[0;34m[\u001b[0m\u001b[0;36m3\u001b[0m\u001b[0;34m]\u001b[0m\u001b[0;34m[\u001b[0m\u001b[0;36m0\u001b[0m\u001b[0;34m]\u001b[0m\u001b[0;34m)\u001b[0m\u001b[0;34m\u001b[0m\u001b[0;34m\u001b[0m\u001b[0m\n\u001b[0m",
      "\u001b[0;32m~/praca_magisterska/Basecaller/basecaller/DatasetManager.py\u001b[0m in \u001b[0;36m__getitem__\u001b[0;34m(self, index)\u001b[0m\n\u001b[1;32m     62\u001b[0m         \u001b[0;32mdef\u001b[0m \u001b[0m__getitem__\u001b[0m\u001b[0;34m(\u001b[0m\u001b[0mself\u001b[0m\u001b[0;34m,\u001b[0m \u001b[0mindex\u001b[0m\u001b[0;34m)\u001b[0m\u001b[0;34m:\u001b[0m\u001b[0;34m\u001b[0m\u001b[0;34m\u001b[0m\u001b[0m\n\u001b[1;32m     63\u001b[0m                 \u001b[0mread_len\u001b[0m \u001b[0;34m=\u001b[0m  \u001b[0mself\u001b[0m\u001b[0;34m.\u001b[0m\u001b[0mread_lens\u001b[0m\u001b[0;34m[\u001b[0m\u001b[0mindex\u001b[0m \u001b[0;34m%\u001b[0m \u001b[0mlen\u001b[0m\u001b[0;34m(\u001b[0m\u001b[0mself\u001b[0m\u001b[0;34m.\u001b[0m\u001b[0mread_lens\u001b[0m\u001b[0;34m)\u001b[0m\u001b[0;34m]\u001b[0m\u001b[0;34m\u001b[0m\u001b[0;34m\u001b[0m\u001b[0m\n\u001b[0;32m---> 64\u001b[0;31m                 \u001b[0msamples\u001b[0m \u001b[0;34m=\u001b[0m \u001b[0;34m[\u001b[0m\u001b[0mFast5Reader\u001b[0m\u001b[0;34m(\u001b[0m\u001b[0mfile_path\u001b[0m\u001b[0;34m,\u001b[0m \u001b[0mread_len\u001b[0m\u001b[0;34m)\u001b[0m\u001b[0;34m.\u001b[0m\u001b[0mget_squiggle_boundary_sample\u001b[0m\u001b[0;34m(\u001b[0m\u001b[0;34m)\u001b[0m \u001b[0;32mfor\u001b[0m \u001b[0mfile_path\u001b[0m \u001b[0;32min\u001b[0m \u001b[0mself\u001b[0m\u001b[0;34m.\u001b[0m\u001b[0mbatches\u001b[0m\u001b[0;34m[\u001b[0m\u001b[0mindex\u001b[0m\u001b[0;34m]\u001b[0m\u001b[0;34m]\u001b[0m\u001b[0;34m\u001b[0m\u001b[0;34m\u001b[0m\u001b[0m\n\u001b[0m\u001b[1;32m     65\u001b[0m                 \u001b[0mX\u001b[0m \u001b[0;34m=\u001b[0m \u001b[0;34m[\u001b[0m\u001b[0ms\u001b[0m\u001b[0;34m[\u001b[0m\u001b[0;36m0\u001b[0m\u001b[0;34m]\u001b[0m \u001b[0;32mfor\u001b[0m \u001b[0ms\u001b[0m \u001b[0;32min\u001b[0m \u001b[0msamples\u001b[0m\u001b[0;34m]\u001b[0m\u001b[0;34m\u001b[0m\u001b[0;34m\u001b[0m\u001b[0m\n\u001b[1;32m     66\u001b[0m                 \u001b[0mY\u001b[0m \u001b[0;34m=\u001b[0m \u001b[0;34m[\u001b[0m\u001b[0ms\u001b[0m\u001b[0;34m[\u001b[0m\u001b[0;36m1\u001b[0m\u001b[0;34m]\u001b[0m \u001b[0;32mfor\u001b[0m \u001b[0ms\u001b[0m \u001b[0;32min\u001b[0m \u001b[0msamples\u001b[0m\u001b[0;34m]\u001b[0m\u001b[0;34m\u001b[0m\u001b[0;34m\u001b[0m\u001b[0m\n",
      "\u001b[0;32m~/praca_magisterska/Basecaller/basecaller/DatasetManager.py\u001b[0m in \u001b[0;36m<listcomp>\u001b[0;34m(.0)\u001b[0m\n\u001b[1;32m     62\u001b[0m         \u001b[0;32mdef\u001b[0m \u001b[0m__getitem__\u001b[0m\u001b[0;34m(\u001b[0m\u001b[0mself\u001b[0m\u001b[0;34m,\u001b[0m \u001b[0mindex\u001b[0m\u001b[0;34m)\u001b[0m\u001b[0;34m:\u001b[0m\u001b[0;34m\u001b[0m\u001b[0;34m\u001b[0m\u001b[0m\n\u001b[1;32m     63\u001b[0m                 \u001b[0mread_len\u001b[0m \u001b[0;34m=\u001b[0m  \u001b[0mself\u001b[0m\u001b[0;34m.\u001b[0m\u001b[0mread_lens\u001b[0m\u001b[0;34m[\u001b[0m\u001b[0mindex\u001b[0m \u001b[0;34m%\u001b[0m \u001b[0mlen\u001b[0m\u001b[0;34m(\u001b[0m\u001b[0mself\u001b[0m\u001b[0;34m.\u001b[0m\u001b[0mread_lens\u001b[0m\u001b[0;34m)\u001b[0m\u001b[0;34m]\u001b[0m\u001b[0;34m\u001b[0m\u001b[0;34m\u001b[0m\u001b[0m\n\u001b[0;32m---> 64\u001b[0;31m                 \u001b[0msamples\u001b[0m \u001b[0;34m=\u001b[0m \u001b[0;34m[\u001b[0m\u001b[0mFast5Reader\u001b[0m\u001b[0;34m(\u001b[0m\u001b[0mfile_path\u001b[0m\u001b[0;34m,\u001b[0m \u001b[0mread_len\u001b[0m\u001b[0;34m)\u001b[0m\u001b[0;34m.\u001b[0m\u001b[0mget_squiggle_boundary_sample\u001b[0m\u001b[0;34m(\u001b[0m\u001b[0;34m)\u001b[0m \u001b[0;32mfor\u001b[0m \u001b[0mfile_path\u001b[0m \u001b[0;32min\u001b[0m \u001b[0mself\u001b[0m\u001b[0;34m.\u001b[0m\u001b[0mbatches\u001b[0m\u001b[0;34m[\u001b[0m\u001b[0mindex\u001b[0m\u001b[0;34m]\u001b[0m\u001b[0;34m]\u001b[0m\u001b[0;34m\u001b[0m\u001b[0;34m\u001b[0m\u001b[0m\n\u001b[0m\u001b[1;32m     65\u001b[0m                 \u001b[0mX\u001b[0m \u001b[0;34m=\u001b[0m \u001b[0;34m[\u001b[0m\u001b[0ms\u001b[0m\u001b[0;34m[\u001b[0m\u001b[0;36m0\u001b[0m\u001b[0;34m]\u001b[0m \u001b[0;32mfor\u001b[0m \u001b[0ms\u001b[0m \u001b[0;32min\u001b[0m \u001b[0msamples\u001b[0m\u001b[0;34m]\u001b[0m\u001b[0;34m\u001b[0m\u001b[0;34m\u001b[0m\u001b[0m\n\u001b[1;32m     66\u001b[0m                 \u001b[0mY\u001b[0m \u001b[0;34m=\u001b[0m \u001b[0;34m[\u001b[0m\u001b[0ms\u001b[0m\u001b[0;34m[\u001b[0m\u001b[0;36m1\u001b[0m\u001b[0;34m]\u001b[0m \u001b[0;32mfor\u001b[0m \u001b[0ms\u001b[0m \u001b[0;32min\u001b[0m \u001b[0msamples\u001b[0m\u001b[0;34m]\u001b[0m\u001b[0;34m\u001b[0m\u001b[0;34m\u001b[0m\u001b[0m\n",
      "\u001b[0;32m~/praca_magisterska/Basecaller/basecaller/DatasetManager.py\u001b[0m in \u001b[0;36mget_squiggle_boundary_sample\u001b[0;34m(self)\u001b[0m\n\u001b[1;32m    212\u001b[0m \u001b[0;34m\u001b[0m\u001b[0m\n\u001b[1;32m    213\u001b[0m         \u001b[0;32mdef\u001b[0m \u001b[0mget_squiggle_boundary_sample\u001b[0m\u001b[0;34m(\u001b[0m\u001b[0mself\u001b[0m\u001b[0;34m)\u001b[0m\u001b[0;34m:\u001b[0m\u001b[0;34m\u001b[0m\u001b[0;34m\u001b[0m\u001b[0m\n\u001b[0;32m--> 214\u001b[0;31m                 \u001b[0;32mwith\u001b[0m \u001b[0mh5py\u001b[0m\u001b[0;34m.\u001b[0m\u001b[0mFile\u001b[0m\u001b[0;34m(\u001b[0m\u001b[0mself\u001b[0m\u001b[0;34m.\u001b[0m\u001b[0mpath\u001b[0m\u001b[0;34m,\u001b[0m\u001b[0;34m'r'\u001b[0m\u001b[0;34m)\u001b[0m \u001b[0;32mas\u001b[0m \u001b[0mcontents\u001b[0m\u001b[0;34m:\u001b[0m\u001b[0;34m\u001b[0m\u001b[0;34m\u001b[0m\u001b[0m\n\u001b[0m\u001b[1;32m    215\u001b[0m                         \u001b[0;32mreturn\u001b[0m \u001b[0mself\u001b[0m\u001b[0;34m.\u001b[0m\u001b[0m_get_squiggle_boundary_sample_from_h5\u001b[0m\u001b[0;34m(\u001b[0m\u001b[0mcontents\u001b[0m\u001b[0;34m)\u001b[0m\u001b[0;34m\u001b[0m\u001b[0;34m\u001b[0m\u001b[0m\n\u001b[1;32m    216\u001b[0m \u001b[0;34m\u001b[0m\u001b[0m\n",
      "\u001b[0;32m~/.conda/envs/tf_gpu/lib/python3.6/site-packages/h5py/_hl/files.py\u001b[0m in \u001b[0;36m__init__\u001b[0;34m(self, name, mode, driver, libver, userblock_size, swmr, rdcc_nslots, rdcc_nbytes, rdcc_w0, track_order, **kwds)\u001b[0m\n\u001b[1;32m    392\u001b[0m                 fid = make_fid(name, mode, userblock_size,\n\u001b[1;32m    393\u001b[0m                                \u001b[0mfapl\u001b[0m\u001b[0;34m,\u001b[0m \u001b[0mfcpl\u001b[0m\u001b[0;34m=\u001b[0m\u001b[0mmake_fcpl\u001b[0m\u001b[0;34m(\u001b[0m\u001b[0mtrack_order\u001b[0m\u001b[0;34m=\u001b[0m\u001b[0mtrack_order\u001b[0m\u001b[0;34m)\u001b[0m\u001b[0;34m,\u001b[0m\u001b[0;34m\u001b[0m\u001b[0;34m\u001b[0m\u001b[0m\n\u001b[0;32m--> 394\u001b[0;31m                                swmr=swmr)\n\u001b[0m\u001b[1;32m    395\u001b[0m \u001b[0;34m\u001b[0m\u001b[0m\n\u001b[1;32m    396\u001b[0m             \u001b[0;32mif\u001b[0m \u001b[0mswmr_support\u001b[0m\u001b[0;34m:\u001b[0m\u001b[0;34m\u001b[0m\u001b[0;34m\u001b[0m\u001b[0m\n",
      "\u001b[0;32m~/.conda/envs/tf_gpu/lib/python3.6/site-packages/h5py/_hl/files.py\u001b[0m in \u001b[0;36mmake_fid\u001b[0;34m(name, mode, userblock_size, fapl, fcpl, swmr)\u001b[0m\n\u001b[1;32m    168\u001b[0m         \u001b[0;32mif\u001b[0m \u001b[0mswmr\u001b[0m \u001b[0;32mand\u001b[0m \u001b[0mswmr_support\u001b[0m\u001b[0;34m:\u001b[0m\u001b[0;34m\u001b[0m\u001b[0;34m\u001b[0m\u001b[0m\n\u001b[1;32m    169\u001b[0m             \u001b[0mflags\u001b[0m \u001b[0;34m|=\u001b[0m \u001b[0mh5f\u001b[0m\u001b[0;34m.\u001b[0m\u001b[0mACC_SWMR_READ\u001b[0m\u001b[0;34m\u001b[0m\u001b[0;34m\u001b[0m\u001b[0m\n\u001b[0;32m--> 170\u001b[0;31m         \u001b[0mfid\u001b[0m \u001b[0;34m=\u001b[0m \u001b[0mh5f\u001b[0m\u001b[0;34m.\u001b[0m\u001b[0mopen\u001b[0m\u001b[0;34m(\u001b[0m\u001b[0mname\u001b[0m\u001b[0;34m,\u001b[0m \u001b[0mflags\u001b[0m\u001b[0;34m,\u001b[0m \u001b[0mfapl\u001b[0m\u001b[0;34m=\u001b[0m\u001b[0mfapl\u001b[0m\u001b[0;34m)\u001b[0m\u001b[0;34m\u001b[0m\u001b[0;34m\u001b[0m\u001b[0m\n\u001b[0m\u001b[1;32m    171\u001b[0m     \u001b[0;32melif\u001b[0m \u001b[0mmode\u001b[0m \u001b[0;34m==\u001b[0m \u001b[0;34m'r+'\u001b[0m\u001b[0;34m:\u001b[0m\u001b[0;34m\u001b[0m\u001b[0;34m\u001b[0m\u001b[0m\n\u001b[1;32m    172\u001b[0m         \u001b[0mfid\u001b[0m \u001b[0;34m=\u001b[0m \u001b[0mh5f\u001b[0m\u001b[0;34m.\u001b[0m\u001b[0mopen\u001b[0m\u001b[0;34m(\u001b[0m\u001b[0mname\u001b[0m\u001b[0;34m,\u001b[0m \u001b[0mh5f\u001b[0m\u001b[0;34m.\u001b[0m\u001b[0mACC_RDWR\u001b[0m\u001b[0;34m,\u001b[0m \u001b[0mfapl\u001b[0m\u001b[0;34m=\u001b[0m\u001b[0mfapl\u001b[0m\u001b[0;34m)\u001b[0m\u001b[0;34m\u001b[0m\u001b[0;34m\u001b[0m\u001b[0m\n",
      "\u001b[0;32mh5py/_objects.pyx\u001b[0m in \u001b[0;36mh5py._objects.with_phil.wrapper\u001b[0;34m()\u001b[0m\n",
      "\u001b[0;32mh5py/_objects.pyx\u001b[0m in \u001b[0;36mh5py._objects.with_phil.wrapper\u001b[0;34m()\u001b[0m\n",
      "\u001b[0;32mh5py/h5f.pyx\u001b[0m in \u001b[0;36mh5py.h5f.open\u001b[0;34m()\u001b[0m\n",
      "\u001b[0;31mOSError\u001b[0m: Unable to open file (unable to open file: name = '/../Dane/squiggled/chr17/sdfag_20161028_FNFAB42704_MN16454_sequencing_run_Chip103_Genomic_R9_4_450bps_tune_13428_ch102_read168_strand.fast5', errno = 2, error message = 'No such file or directory', flags = 0, o_flags = 0)"
     ]
    }
   ],
   "source": [
    "from keras.models import Model\n",
    "sub_model = model.get_layer('model_1')\n",
    "im_model = Model(inputs=sub_model.get_input_at(0), outputs =sub_model.get_layer('activation_1').output)\n",
    "preds = im_model.predict_on_batch(test_seq[3][0])"
   ]
  },
  {
   "cell_type": "code",
   "execution_count": null,
   "metadata": {},
   "outputs": [],
   "source": [
    "dists = []\n",
    "ops = []\n",
    "lens = []\n",
    "pred_lens = []\n",
    "real = []\n",
    "predicted = []\n",
    "for i in range(len(test_seq)):\n",
    "    batch = test_seq[i][0]\n",
    "    preds = im_model.predict_on_batch(batch)\n",
    "    val = K.ctc_decode(preds, np.full(100, batch['input_length'][0,0]), greedy=False)\n",
    "    decoded = K.eval(val[0][0])\n",
    "    for i in range(decoded.shape[0]):\n",
    "        real_label = batch['the_labels'][i, :batch['label_length'][i,0]]\n",
    "        real_label = ''.join([str(int(x)) for x in real_label.tolist()])\n",
    "        pred_label = list(filter(lambda x: x!= -1, decoded[i,:].tolist()))\n",
    "        pred_label = [str(x) for x in pred_label]\n",
    "        pred_label = ''.join(pred_label)\n",
    "        dists.append(distance(pred_label, real_label))\n",
    "        ops.append(editops(pred_label, real_label))\n",
    "        lens.append(len(real_label))\n",
    "        pred_lens.append(len(pred_label))\n",
    "        real.append(real_label)\n",
    "        predicted.append(pred_label)"
   ]
  },
  {
   "cell_type": "code",
   "execution_count": null,
   "metadata": {},
   "outputs": [],
   "source": [
    "print(sum(dists)/sum(lens))\n",
    "print(np.mean(lens))\n",
    "print(np.mean(pred_lens))"
   ]
  },
  {
   "cell_type": "code",
   "execution_count": 5,
   "metadata": {},
   "outputs": [
    {
     "ename": "NameError",
     "evalue": "name 'ops' is not defined",
     "output_type": "error",
     "traceback": [
      "\u001b[0;31m---------------------------------------------------------------------------\u001b[0m",
      "\u001b[0;31mNameError\u001b[0m                                 Traceback (most recent call last)",
      "\u001b[0;32m<ipython-input-5-1cf3a709f15f>\u001b[0m in \u001b[0;36m<module>\u001b[0;34m\u001b[0m\n\u001b[1;32m      1\u001b[0m \u001b[0mop_counts\u001b[0m \u001b[0;34m=\u001b[0m \u001b[0;34m{\u001b[0m\u001b[0;34m'insert'\u001b[0m\u001b[0;34m:\u001b[0m\u001b[0;36m0\u001b[0m\u001b[0;34m,\u001b[0m \u001b[0;34m'replace'\u001b[0m\u001b[0;34m:\u001b[0m\u001b[0;36m0\u001b[0m\u001b[0;34m,\u001b[0m \u001b[0;34m'delete'\u001b[0m\u001b[0;34m:\u001b[0m\u001b[0;36m0\u001b[0m\u001b[0;34m}\u001b[0m\u001b[0;34m\u001b[0m\u001b[0;34m\u001b[0m\u001b[0m\n\u001b[0;32m----> 2\u001b[0;31m \u001b[0;32mfor\u001b[0m \u001b[0mop\u001b[0m \u001b[0;32min\u001b[0m \u001b[0mops\u001b[0m\u001b[0;34m:\u001b[0m\u001b[0;34m\u001b[0m\u001b[0;34m\u001b[0m\u001b[0m\n\u001b[0m\u001b[1;32m      3\u001b[0m     \u001b[0;32mfor\u001b[0m \u001b[0mx\u001b[0m \u001b[0;32min\u001b[0m \u001b[0mop\u001b[0m\u001b[0;34m:\u001b[0m\u001b[0;34m\u001b[0m\u001b[0;34m\u001b[0m\u001b[0m\n\u001b[1;32m      4\u001b[0m         \u001b[0mop_counts\u001b[0m\u001b[0;34m[\u001b[0m\u001b[0mx\u001b[0m\u001b[0;34m[\u001b[0m\u001b[0;36m0\u001b[0m\u001b[0;34m]\u001b[0m\u001b[0;34m]\u001b[0m \u001b[0;34m+=\u001b[0m \u001b[0;36m1\u001b[0m\u001b[0;34m\u001b[0m\u001b[0;34m\u001b[0m\u001b[0m\n\u001b[1;32m      5\u001b[0m \u001b[0;32mfor\u001b[0m \u001b[0mkey\u001b[0m \u001b[0;32min\u001b[0m \u001b[0mop_counts\u001b[0m\u001b[0;34m.\u001b[0m\u001b[0mkeys\u001b[0m\u001b[0;34m(\u001b[0m\u001b[0;34m)\u001b[0m\u001b[0;34m:\u001b[0m\u001b[0;34m\u001b[0m\u001b[0;34m\u001b[0m\u001b[0m\n",
      "\u001b[0;31mNameError\u001b[0m: name 'ops' is not defined"
     ]
    }
   ],
   "source": [
    "op_counts = {'insert':0, 'replace':0, 'delete':0}\n",
    "for op in ops:\n",
    "    for x in op:\n",
    "        op_counts[x[0]] += 1\n",
    "for key in op_counts.keys():\n",
    "    op_counts[key] = op_counts[key] / sum(lens)"
   ]
  },
  {
   "cell_type": "code",
   "execution_count": 8,
   "metadata": {},
   "outputs": [
    {
     "data": {
      "text/plain": [
       "{'insert': 0.414226293720425,\n",
       " 'replace': 0.08130272973746695,\n",
       " 'delete': 0.000959870670057087}"
      ]
     },
     "execution_count": 8,
     "metadata": {},
     "output_type": "execute_result"
    }
   ],
   "source": [
    "op_counts"
   ]
  },
  {
   "cell_type": "code",
   "execution_count": 9,
   "metadata": {},
   "outputs": [
    {
     "data": {
      "text/plain": [
       "{'insert': 0.8343112980361564,\n",
       " 'replace': 0.1637553844588407,\n",
       " 'delete': 0.001933317505002883}"
      ]
     },
     "execution_count": 9,
     "metadata": {},
     "output_type": "execute_result"
    }
   ],
   "source": [
    "op_sum = 0\n",
    "for key in op_counts.keys():\n",
    "    op_sum +=  op_counts[key]\n",
    "for key in op_counts.keys():\n",
    "    op_counts[key] = op_counts[key] / op_sum \n",
    "op_counts"
   ]
  },
  {
   "cell_type": "code",
   "execution_count": 123,
   "metadata": {},
   "outputs": [],
   "source": [
    "import keras.backend as K\n",
    "import numpy as np"
   ]
  },
  {
   "cell_type": "code",
   "execution_count": 47,
   "metadata": {},
   "outputs": [],
   "source": [
    "val = K.ctc_decode(preds, np.full(100, 200), greedy=False)"
   ]
  },
  {
   "cell_type": "code",
   "execution_count": 48,
   "metadata": {},
   "outputs": [],
   "source": [
    "decoded = K.eval(val[0][0])"
   ]
  },
  {
   "cell_type": "code",
   "execution_count": 49,
   "metadata": {},
   "outputs": [
    {
     "data": {
      "text/plain": [
       "(100, 27)"
      ]
     },
     "execution_count": 49,
     "metadata": {},
     "output_type": "execute_result"
    }
   ],
   "source": [
    "decoded.shape"
   ]
  },
  {
   "cell_type": "code",
   "execution_count": 73,
   "metadata": {},
   "outputs": [],
   "source": [
    "batch = test_seq[0][0]"
   ]
  },
  {
   "cell_type": "code",
   "execution_count": 78,
   "metadata": {},
   "outputs": [
    {
     "data": {
      "text/plain": [
       "200"
      ]
     },
     "execution_count": 78,
     "metadata": {},
     "output_type": "execute_result"
    }
   ],
   "source": [
    "batch['input_length'][0,0]"
   ]
  },
  {
   "cell_type": "code",
   "execution_count": 79,
   "metadata": {},
   "outputs": [
    {
     "data": {
      "text/plain": [
       "29"
      ]
     },
     "execution_count": 79,
     "metadata": {},
     "output_type": "execute_result"
    }
   ],
   "source": [
    "batch['label_length'][0,0]"
   ]
  },
  {
   "cell_type": "code",
   "execution_count": 83,
   "metadata": {},
   "outputs": [
    {
     "data": {
      "text/plain": [
       "'132302121323120301301201-1-1-1'"
      ]
     },
     "execution_count": 83,
     "metadata": {},
     "output_type": "execute_result"
    }
   ],
   "source": [
    "''.join([str(x) for x in decoded[1,:]])"
   ]
  },
  {
   "cell_type": "code",
   "execution_count": 87,
   "metadata": {},
   "outputs": [
    {
     "data": {
      "text/plain": [
       "[1, 3, 2, 3, 0, 2, 1, 2, 1, 3, 2, 3, 1, 2, 0, 3, 0, 1, 3, 0, 1, 2, 0, 1]"
      ]
     },
     "execution_count": 87,
     "metadata": {},
     "output_type": "execute_result"
    }
   ],
   "source": [
    "list(filter(lambda x: x!= -1, decoded[1,:].tolist()))"
   ]
  },
  {
   "cell_type": "code",
   "execution_count": 68,
   "metadata": {},
   "outputs": [],
   "source": [
    "batch = test_seq[0]"
   ]
  },
  {
   "cell_type": "code",
   "execution_count": 69,
   "metadata": {},
   "outputs": [
    {
     "data": {
      "text/plain": [
       "{'the_input': array([[[ 1.406917  ],\n",
       "         [ 0.06858943],\n",
       "         [-0.88953143],\n",
       "         ...,\n",
       "         [-0.17474285],\n",
       "         [-1.1632802 ],\n",
       "         [-0.980781  ]],\n",
       " \n",
       "        [[ 0.6795822 ],\n",
       "         [ 0.5100046 ],\n",
       "         [ 0.34042698],\n",
       "         ...,\n",
       "         [-0.19656876],\n",
       "         [ 0.52413607],\n",
       "         [ 0.31216407]],\n",
       " \n",
       "        [[ 0.43072826],\n",
       "         [ 0.72029364],\n",
       "         [ 0.9555655 ],\n",
       "         ...,\n",
       "         [ 0.6117066 ],\n",
       "         [ 0.6117066 ],\n",
       "         [ 0.15926073]],\n",
       " \n",
       "        ...,\n",
       " \n",
       "        [[-1.1473943 ],\n",
       "         [ 0.15297389],\n",
       "         [ 0.64061195],\n",
       "         ...,\n",
       "         [ 0.58642995],\n",
       "         [ 1.2727354 ],\n",
       "         [ 0.7670366 ]],\n",
       " \n",
       "        [[-1.4859797 ],\n",
       "         [-1.7050861 ],\n",
       "         [-1.5882294 ],\n",
       "         ...,\n",
       "         [ 1.318582  ],\n",
       "         [ 0.9387977 ],\n",
       "         [ 1.0118332 ]],\n",
       " \n",
       "        [[ 0.4327911 ],\n",
       "         [ 0.34279817],\n",
       "         [ 0.34279817],\n",
       "         ...,\n",
       "         [ 0.942751  ],\n",
       "         [ 0.40279347],\n",
       "         [-0.1821605 ]]], dtype=float32),\n",
       " 'the_labels': array([[0., 3., 2., ..., 0., 0., 0.],\n",
       "        [2., 2., 2., ..., 0., 0., 0.],\n",
       "        [3., 0., 3., ..., 0., 0., 0.],\n",
       "        ...,\n",
       "        [1., 1., 1., ..., 0., 0., 0.],\n",
       "        [2., 3., 1., ..., 0., 0., 0.],\n",
       "        [1., 2., 3., ..., 0., 0., 0.]]),\n",
       " 'input_length': array([[200],\n",
       "        [200],\n",
       "        [200],\n",
       "        [200],\n",
       "        [200],\n",
       "        [200],\n",
       "        [200],\n",
       "        [200],\n",
       "        [200],\n",
       "        [200],\n",
       "        [200],\n",
       "        [200],\n",
       "        [200],\n",
       "        [200],\n",
       "        [200],\n",
       "        [200],\n",
       "        [200],\n",
       "        [200],\n",
       "        [200],\n",
       "        [200],\n",
       "        [200],\n",
       "        [200],\n",
       "        [200],\n",
       "        [200],\n",
       "        [200],\n",
       "        [200],\n",
       "        [200],\n",
       "        [200],\n",
       "        [200],\n",
       "        [200],\n",
       "        [200],\n",
       "        [200],\n",
       "        [200],\n",
       "        [200],\n",
       "        [200],\n",
       "        [200],\n",
       "        [200],\n",
       "        [200],\n",
       "        [200],\n",
       "        [200],\n",
       "        [200],\n",
       "        [200],\n",
       "        [200],\n",
       "        [200],\n",
       "        [200],\n",
       "        [200],\n",
       "        [200],\n",
       "        [200],\n",
       "        [200],\n",
       "        [200],\n",
       "        [200],\n",
       "        [200],\n",
       "        [200],\n",
       "        [200],\n",
       "        [200],\n",
       "        [200],\n",
       "        [200],\n",
       "        [200],\n",
       "        [200],\n",
       "        [200],\n",
       "        [200],\n",
       "        [200],\n",
       "        [200],\n",
       "        [200],\n",
       "        [200],\n",
       "        [200],\n",
       "        [200],\n",
       "        [200],\n",
       "        [200],\n",
       "        [200],\n",
       "        [200],\n",
       "        [200],\n",
       "        [200],\n",
       "        [200],\n",
       "        [200],\n",
       "        [200],\n",
       "        [200],\n",
       "        [200],\n",
       "        [200],\n",
       "        [200],\n",
       "        [200],\n",
       "        [200],\n",
       "        [200],\n",
       "        [200],\n",
       "        [200],\n",
       "        [200],\n",
       "        [200],\n",
       "        [200],\n",
       "        [200],\n",
       "        [200],\n",
       "        [200],\n",
       "        [200],\n",
       "        [200],\n",
       "        [200],\n",
       "        [200],\n",
       "        [200],\n",
       "        [200],\n",
       "        [200],\n",
       "        [200],\n",
       "        [200]]),\n",
       " 'label_length': array([[34],\n",
       "        [24],\n",
       "        [37],\n",
       "        [21],\n",
       "        [25],\n",
       "        [26],\n",
       "        [25],\n",
       "        [23],\n",
       "        [26],\n",
       "        [25],\n",
       "        [26],\n",
       "        [24],\n",
       "        [18],\n",
       "        [22],\n",
       "        [23],\n",
       "        [25],\n",
       "        [22],\n",
       "        [27],\n",
       "        [24],\n",
       "        [23],\n",
       "        [21],\n",
       "        [18],\n",
       "        [29],\n",
       "        [23],\n",
       "        [28],\n",
       "        [22],\n",
       "        [22],\n",
       "        [19],\n",
       "        [24],\n",
       "        [21],\n",
       "        [24],\n",
       "        [26],\n",
       "        [25],\n",
       "        [24],\n",
       "        [38],\n",
       "        [17],\n",
       "        [25],\n",
       "        [17],\n",
       "        [22],\n",
       "        [16],\n",
       "        [30],\n",
       "        [26],\n",
       "        [37],\n",
       "        [22],\n",
       "        [29],\n",
       "        [15],\n",
       "        [27],\n",
       "        [26],\n",
       "        [15],\n",
       "        [29],\n",
       "        [12],\n",
       "        [25],\n",
       "        [27],\n",
       "        [28],\n",
       "        [23],\n",
       "        [24],\n",
       "        [24],\n",
       "        [22],\n",
       "        [27],\n",
       "        [29],\n",
       "        [29],\n",
       "        [24],\n",
       "        [22],\n",
       "        [23],\n",
       "        [24],\n",
       "        [32],\n",
       "        [37],\n",
       "        [20],\n",
       "        [23],\n",
       "        [31],\n",
       "        [29],\n",
       "        [29],\n",
       "        [22],\n",
       "        [24],\n",
       "        [21],\n",
       "        [18],\n",
       "        [30],\n",
       "        [18],\n",
       "        [15],\n",
       "        [21],\n",
       "        [20],\n",
       "        [24],\n",
       "        [25],\n",
       "        [28],\n",
       "        [27],\n",
       "        [15],\n",
       "        [28],\n",
       "        [23],\n",
       "        [26],\n",
       "        [26],\n",
       "        [30],\n",
       "        [22],\n",
       "        [24],\n",
       "        [19],\n",
       "        [25],\n",
       "        [28],\n",
       "        [27],\n",
       "        [31],\n",
       "        [27],\n",
       "        [27]])}"
      ]
     },
     "execution_count": 69,
     "metadata": {},
     "output_type": "execute_result"
    }
   ],
   "source": [
    "batch[0]"
   ]
  },
  {
   "cell_type": "code",
   "execution_count": null,
   "metadata": {},
   "outputs": [],
   "source": []
  }
 ],
 "metadata": {
  "kernelspec": {
   "display_name": "Python 3",
   "language": "python",
   "name": "python3"
  },
  "language_info": {
   "codemirror_mode": {
    "name": "ipython",
    "version": 3
   },
   "file_extension": ".py",
   "mimetype": "text/x-python",
   "name": "python",
   "nbconvert_exporter": "python",
   "pygments_lexer": "ipython3",
   "version": "3.6.8"
  }
 },
 "nbformat": 4,
 "nbformat_minor": 2
}
