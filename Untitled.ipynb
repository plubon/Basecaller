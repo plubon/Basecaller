{
 "cells": [
  {
   "cell_type": "code",
   "execution_count": 106,
   "metadata": {},
   "outputs": [
    {
     "name": "stdout",
     "output_type": "stream",
     "text": [
      "The autoreload extension is already loaded. To reload it, use:\n",
      "  %reload_ext autoreload\n"
     ]
    }
   ],
   "source": [
    "%load_ext autoreload\n",
    "%autoreload 2"
   ]
  },
  {
   "cell_type": "code",
   "execution_count": 127,
   "metadata": {},
   "outputs": [
    {
     "data": {
      "text/plain": [
       "827"
      ]
     },
     "execution_count": 127,
     "metadata": {},
     "output_type": "execute_result"
    }
   ],
   "source": [
    "from basecaller.DatasetManager import SignalSequence, DataDirectoryReader\n",
    "\n",
    "dir_reader = DataDirectoryReader('Dane/squiggled/')\n",
    "train, test = dir_reader.get_train_test_files()\n",
    "signal_seq = SignalSequence(train)\n",
    "test_len = sum([len(test[x]) for x in test.keys()])\n",
    "test_seq = SignalSequence(test, number_of_reads=test_len)"
   ]
  },
  {
   "cell_type": "code",
   "execution_count": null,
   "metadata": {},
   "outputs": [
    {
     "name": "stdout",
     "output_type": "stream",
     "text": [
      "Epoch 1/1\n",
      "25/40 [=================>............] - ETA: 3:16 - loss: 118.6079"
     ]
    }
   ],
   "source": [
    "from basecaller.Network import get_model\n",
    "\n",
    "model = get_model()\n",
    "adam = optimizers.Adam()\n",
    "model.compile(loss={'ctc': lambda y_true, y_pred: y_pred},optimizer=adam)\n",
    "model.fit_generator(signal_seq)"
   ]
  },
  {
   "cell_type": "code",
   "execution_count": null,
   "metadata": {},
   "outputs": [],
   "source": []
  }
 ],
 "metadata": {
  "kernelspec": {
   "display_name": "Python 3",
   "language": "python",
   "name": "python3"
  },
  "language_info": {
   "codemirror_mode": {
    "name": "ipython",
    "version": 3
   },
   "file_extension": ".py",
   "mimetype": "text/x-python",
   "name": "python",
   "nbconvert_exporter": "python",
   "pygments_lexer": "ipython3",
   "version": "3.6.7"
  }
 },
 "nbformat": 4,
 "nbformat_minor": 2
}
