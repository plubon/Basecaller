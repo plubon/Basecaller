{
 "cells": [
  {
   "cell_type": "code",
   "execution_count": 1,
   "metadata": {},
   "outputs": [
    {
     "name": "stderr",
     "output_type": "stream",
     "text": [
      "Using TensorFlow backend.\n"
     ]
    }
   ],
   "source": [
    "from Levenshtein import distance, editops\n",
    "from keras.models import load_model\n",
    "from DatasetManager import SignalSequence\n",
    "from Network import ctc_lambda_func\n",
    "from keras.utils import plot_model"
   ]
  },
  {
   "cell_type": "code",
   "execution_count": 2,
   "metadata": {},
   "outputs": [],
   "source": [
    "test_files = []\n",
    "with open('runs/2019-03-11 13:30:15.455773/test.txt') as f:\n",
    "    test_files = [x[5:].strip() for x in f.readlines()]\n",
    "test = {'chrM':test_files}\n",
    "test_len = sum([len(test[x]) for x in test.keys()])\n",
    "test_seq = SignalSequence(test, number_of_reads=test_len)\n",
    "model = load_model('runs/2019-03-11 13:30:15.455773/model.h5', custom_objects = {'<lambda>': lambda y_true, y_pred: y_pred})"
   ]
  },
  {
   "cell_type": "code",
   "execution_count": 5,
   "metadata": {},
   "outputs": [],
   "source": [
    "from keras.utils import plot_model\n",
    "plot_model(model, to_file='model.png')\n",
    "plot_model(model.get_layer('model_1'), to_file='model1.png')"
   ]
  },
  {
   "cell_type": "code",
   "execution_count": 9,
   "metadata": {},
   "outputs": [],
   "source": [
    "from keras.models import Model\n",
    "sub_model = model.get_layer('model_1')\n",
    "im_model = Model(inputs=sub_model.get_input_at(0), outputs =sub_model.get_layer('activation_1').output)\n",
    "preds = im_model.predict_on_batch(test_seq[0][0])"
   ]
  },
  {
   "cell_type": "code",
   "execution_count": 118,
   "metadata": {},
   "outputs": [],
   "source": [
    "dists = []\n",
    "ops = []\n",
    "lens = []\n",
    "pred_lens = []\n",
    "real = []\n",
    "predicted = []\n",
    "for i in range(len(test_seq)):\n",
    "    batch = test_seq[i][0]\n",
    "    preds = im_model.predict_on_batch(batch)\n",
    "    val = K.ctc_decode(preds, np.full(100, batch['input_length'][0,0]), greedy=False)\n",
    "    decoded = K.eval(val[0][0])\n",
    "    for i in range(decoded.shape[0]):\n",
    "        real_label = batch['the_labels'][i, :batch['label_length'][i,0]]\n",
    "        real_label = ''.join([str(int(x)) for x in real_label.tolist()])\n",
    "        pred_label = list(filter(lambda x: x!= -1, decoded[i,:].tolist()))\n",
    "        pred_label = [str(x) for x in pred_label]\n",
    "        pred_label = ''.join(pred_label)\n",
    "        dists.append(distance(pred_label, real_label))\n",
    "        ops.append(editops(pred_label, real_label))\n",
    "        lens.append(len(real_label))\n",
    "        pred_lens.append(len(pred_label))\n",
    "        real.append(real_label)\n",
    "        predicted.append(pred_label)"
   ]
  },
  {
   "cell_type": "code",
   "execution_count": 119,
   "metadata": {},
   "outputs": [
    {
     "name": "stdout",
     "output_type": "stream",
     "text": [
      "0.42003771725649436\n",
      "65.39888888888889\n",
      "43.111111111111114\n"
     ]
    }
   ],
   "source": [
    "print(sum(dists)/sum(lens))\n",
    "print(np.mean(lens))\n",
    "print(np.mean(pred_lens))"
   ]
  },
  {
   "cell_type": "code",
   "execution_count": 124,
   "metadata": {},
   "outputs": [],
   "source": [
    "op_counts = {'insert':0, 'replace':0, 'delete':0}\n",
    "for op in ops:\n",
    "    for x in op:\n",
    "        op_counts[x[0]] += 1\n",
    "for key in op_counts.keys():\n",
    "    op_counts[key] = op_counts[key] / sum(lens)"
   ]
  },
  {
   "cell_type": "code",
   "execution_count": 125,
   "metadata": {},
   "outputs": [
    {
     "data": {
      "text/plain": [
       "{'insert': 0.3441784603883858,\n",
       " 'replace': 0.07247829558776057,\n",
       " 'delete': 0.00338096128034795}"
      ]
     },
     "execution_count": 125,
     "metadata": {},
     "output_type": "execute_result"
    }
   ],
   "source": [
    "op_counts"
   ]
  },
  {
   "cell_type": "code",
   "execution_count": 126,
   "metadata": {},
   "outputs": [
    {
     "data": {
      "text/plain": [
       "{'insert': 0.8193989402580594,\n",
       " 'replace': 0.17255187477247907,\n",
       " 'delete': 0.008049184969461635}"
      ]
     },
     "execution_count": 126,
     "metadata": {},
     "output_type": "execute_result"
    }
   ],
   "source": [
    "op_sum = 0\n",
    "for key in op_counts.keys():\n",
    "    op_sum +=  op_counts[key]\n",
    "for key in op_counts.keys():\n",
    "    op_counts[key] = op_counts[key] / op_sum \n",
    "op_counts"
   ]
  },
  {
   "cell_type": "code",
   "execution_count": 123,
   "metadata": {},
   "outputs": [],
   "source": [
    "import keras.backend as K\n",
    "import numpy as np"
   ]
  },
  {
   "cell_type": "code",
   "execution_count": 47,
   "metadata": {},
   "outputs": [],
   "source": [
    "val = K.ctc_decode(preds, np.full(100, 200), greedy=False)"
   ]
  },
  {
   "cell_type": "code",
   "execution_count": 48,
   "metadata": {},
   "outputs": [],
   "source": [
    "decoded = K.eval(val[0][0])"
   ]
  },
  {
   "cell_type": "code",
   "execution_count": 49,
   "metadata": {},
   "outputs": [
    {
     "data": {
      "text/plain": [
       "(100, 27)"
      ]
     },
     "execution_count": 49,
     "metadata": {},
     "output_type": "execute_result"
    }
   ],
   "source": [
    "decoded.shape"
   ]
  },
  {
   "cell_type": "code",
   "execution_count": 73,
   "metadata": {},
   "outputs": [],
   "source": [
    "batch = test_seq[0][0]"
   ]
  },
  {
   "cell_type": "code",
   "execution_count": 78,
   "metadata": {},
   "outputs": [
    {
     "data": {
      "text/plain": [
       "200"
      ]
     },
     "execution_count": 78,
     "metadata": {},
     "output_type": "execute_result"
    }
   ],
   "source": [
    "batch['input_length'][0,0]"
   ]
  },
  {
   "cell_type": "code",
   "execution_count": 79,
   "metadata": {},
   "outputs": [
    {
     "data": {
      "text/plain": [
       "29"
      ]
     },
     "execution_count": 79,
     "metadata": {},
     "output_type": "execute_result"
    }
   ],
   "source": [
    "batch['label_length'][0,0]"
   ]
  },
  {
   "cell_type": "code",
   "execution_count": 83,
   "metadata": {},
   "outputs": [
    {
     "data": {
      "text/plain": [
       "'132302121323120301301201-1-1-1'"
      ]
     },
     "execution_count": 83,
     "metadata": {},
     "output_type": "execute_result"
    }
   ],
   "source": [
    "''.join([str(x) for x in decoded[1,:]])"
   ]
  },
  {
   "cell_type": "code",
   "execution_count": 87,
   "metadata": {},
   "outputs": [
    {
     "data": {
      "text/plain": [
       "[1, 3, 2, 3, 0, 2, 1, 2, 1, 3, 2, 3, 1, 2, 0, 3, 0, 1, 3, 0, 1, 2, 0, 1]"
      ]
     },
     "execution_count": 87,
     "metadata": {},
     "output_type": "execute_result"
    }
   ],
   "source": [
    "list(filter(lambda x: x!= -1, decoded[1,:].tolist()))"
   ]
  },
  {
   "cell_type": "code",
   "execution_count": 68,
   "metadata": {},
   "outputs": [],
   "source": [
    "batch = test_seq[0]"
   ]
  },
  {
   "cell_type": "code",
   "execution_count": 69,
   "metadata": {},
   "outputs": [
    {
     "data": {
      "text/plain": [
       "{'the_input': array([[[ 1.406917  ],\n",
       "         [ 0.06858943],\n",
       "         [-0.88953143],\n",
       "         ...,\n",
       "         [-0.17474285],\n",
       "         [-1.1632802 ],\n",
       "         [-0.980781  ]],\n",
       " \n",
       "        [[ 0.6795822 ],\n",
       "         [ 0.5100046 ],\n",
       "         [ 0.34042698],\n",
       "         ...,\n",
       "         [-0.19656876],\n",
       "         [ 0.52413607],\n",
       "         [ 0.31216407]],\n",
       " \n",
       "        [[ 0.43072826],\n",
       "         [ 0.72029364],\n",
       "         [ 0.9555655 ],\n",
       "         ...,\n",
       "         [ 0.6117066 ],\n",
       "         [ 0.6117066 ],\n",
       "         [ 0.15926073]],\n",
       " \n",
       "        ...,\n",
       " \n",
       "        [[-1.1473943 ],\n",
       "         [ 0.15297389],\n",
       "         [ 0.64061195],\n",
       "         ...,\n",
       "         [ 0.58642995],\n",
       "         [ 1.2727354 ],\n",
       "         [ 0.7670366 ]],\n",
       " \n",
       "        [[-1.4859797 ],\n",
       "         [-1.7050861 ],\n",
       "         [-1.5882294 ],\n",
       "         ...,\n",
       "         [ 1.318582  ],\n",
       "         [ 0.9387977 ],\n",
       "         [ 1.0118332 ]],\n",
       " \n",
       "        [[ 0.4327911 ],\n",
       "         [ 0.34279817],\n",
       "         [ 0.34279817],\n",
       "         ...,\n",
       "         [ 0.942751  ],\n",
       "         [ 0.40279347],\n",
       "         [-0.1821605 ]]], dtype=float32),\n",
       " 'the_labels': array([[0., 3., 2., ..., 0., 0., 0.],\n",
       "        [2., 2., 2., ..., 0., 0., 0.],\n",
       "        [3., 0., 3., ..., 0., 0., 0.],\n",
       "        ...,\n",
       "        [1., 1., 1., ..., 0., 0., 0.],\n",
       "        [2., 3., 1., ..., 0., 0., 0.],\n",
       "        [1., 2., 3., ..., 0., 0., 0.]]),\n",
       " 'input_length': array([[200],\n",
       "        [200],\n",
       "        [200],\n",
       "        [200],\n",
       "        [200],\n",
       "        [200],\n",
       "        [200],\n",
       "        [200],\n",
       "        [200],\n",
       "        [200],\n",
       "        [200],\n",
       "        [200],\n",
       "        [200],\n",
       "        [200],\n",
       "        [200],\n",
       "        [200],\n",
       "        [200],\n",
       "        [200],\n",
       "        [200],\n",
       "        [200],\n",
       "        [200],\n",
       "        [200],\n",
       "        [200],\n",
       "        [200],\n",
       "        [200],\n",
       "        [200],\n",
       "        [200],\n",
       "        [200],\n",
       "        [200],\n",
       "        [200],\n",
       "        [200],\n",
       "        [200],\n",
       "        [200],\n",
       "        [200],\n",
       "        [200],\n",
       "        [200],\n",
       "        [200],\n",
       "        [200],\n",
       "        [200],\n",
       "        [200],\n",
       "        [200],\n",
       "        [200],\n",
       "        [200],\n",
       "        [200],\n",
       "        [200],\n",
       "        [200],\n",
       "        [200],\n",
       "        [200],\n",
       "        [200],\n",
       "        [200],\n",
       "        [200],\n",
       "        [200],\n",
       "        [200],\n",
       "        [200],\n",
       "        [200],\n",
       "        [200],\n",
       "        [200],\n",
       "        [200],\n",
       "        [200],\n",
       "        [200],\n",
       "        [200],\n",
       "        [200],\n",
       "        [200],\n",
       "        [200],\n",
       "        [200],\n",
       "        [200],\n",
       "        [200],\n",
       "        [200],\n",
       "        [200],\n",
       "        [200],\n",
       "        [200],\n",
       "        [200],\n",
       "        [200],\n",
       "        [200],\n",
       "        [200],\n",
       "        [200],\n",
       "        [200],\n",
       "        [200],\n",
       "        [200],\n",
       "        [200],\n",
       "        [200],\n",
       "        [200],\n",
       "        [200],\n",
       "        [200],\n",
       "        [200],\n",
       "        [200],\n",
       "        [200],\n",
       "        [200],\n",
       "        [200],\n",
       "        [200],\n",
       "        [200],\n",
       "        [200],\n",
       "        [200],\n",
       "        [200],\n",
       "        [200],\n",
       "        [200],\n",
       "        [200],\n",
       "        [200],\n",
       "        [200],\n",
       "        [200]]),\n",
       " 'label_length': array([[34],\n",
       "        [24],\n",
       "        [37],\n",
       "        [21],\n",
       "        [25],\n",
       "        [26],\n",
       "        [25],\n",
       "        [23],\n",
       "        [26],\n",
       "        [25],\n",
       "        [26],\n",
       "        [24],\n",
       "        [18],\n",
       "        [22],\n",
       "        [23],\n",
       "        [25],\n",
       "        [22],\n",
       "        [27],\n",
       "        [24],\n",
       "        [23],\n",
       "        [21],\n",
       "        [18],\n",
       "        [29],\n",
       "        [23],\n",
       "        [28],\n",
       "        [22],\n",
       "        [22],\n",
       "        [19],\n",
       "        [24],\n",
       "        [21],\n",
       "        [24],\n",
       "        [26],\n",
       "        [25],\n",
       "        [24],\n",
       "        [38],\n",
       "        [17],\n",
       "        [25],\n",
       "        [17],\n",
       "        [22],\n",
       "        [16],\n",
       "        [30],\n",
       "        [26],\n",
       "        [37],\n",
       "        [22],\n",
       "        [29],\n",
       "        [15],\n",
       "        [27],\n",
       "        [26],\n",
       "        [15],\n",
       "        [29],\n",
       "        [12],\n",
       "        [25],\n",
       "        [27],\n",
       "        [28],\n",
       "        [23],\n",
       "        [24],\n",
       "        [24],\n",
       "        [22],\n",
       "        [27],\n",
       "        [29],\n",
       "        [29],\n",
       "        [24],\n",
       "        [22],\n",
       "        [23],\n",
       "        [24],\n",
       "        [32],\n",
       "        [37],\n",
       "        [20],\n",
       "        [23],\n",
       "        [31],\n",
       "        [29],\n",
       "        [29],\n",
       "        [22],\n",
       "        [24],\n",
       "        [21],\n",
       "        [18],\n",
       "        [30],\n",
       "        [18],\n",
       "        [15],\n",
       "        [21],\n",
       "        [20],\n",
       "        [24],\n",
       "        [25],\n",
       "        [28],\n",
       "        [27],\n",
       "        [15],\n",
       "        [28],\n",
       "        [23],\n",
       "        [26],\n",
       "        [26],\n",
       "        [30],\n",
       "        [22],\n",
       "        [24],\n",
       "        [19],\n",
       "        [25],\n",
       "        [28],\n",
       "        [27],\n",
       "        [31],\n",
       "        [27],\n",
       "        [27]])}"
      ]
     },
     "execution_count": 69,
     "metadata": {},
     "output_type": "execute_result"
    }
   ],
   "source": [
    "batch[0]"
   ]
  },
  {
   "cell_type": "code",
   "execution_count": null,
   "metadata": {},
   "outputs": [],
   "source": []
  }
 ],
 "metadata": {
  "kernelspec": {
   "display_name": "Python 3",
   "language": "python",
   "name": "python3"
  },
  "language_info": {
   "codemirror_mode": {
    "name": "ipython",
    "version": 3
   },
   "file_extension": ".py",
   "mimetype": "text/x-python",
   "name": "python",
   "nbconvert_exporter": "python",
   "pygments_lexer": "ipython3",
   "version": "3.5.2"
  }
 },
 "nbformat": 4,
 "nbformat_minor": 2
}
