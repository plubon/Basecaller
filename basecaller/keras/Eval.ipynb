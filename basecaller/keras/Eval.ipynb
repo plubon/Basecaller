{
 "cells": [
  {
   "cell_type": "code",
   "execution_count": 122,
   "metadata": {},
   "outputs": [],
   "source": [
    "#!/usr/bin/python3\n",
    "from Network import get_default_model\n",
    "from keras import optimizers\n",
    "from keras.utils import multi_gpu_model\n",
    "from keras.callbacks import CSVLogger\n",
    "from keras.models import Model, load_model\n",
    "import keras.backend as K\n",
    "from DatasetManager import SignalSequence, DataDirectoryReader\n",
    "import datetime\n",
    "import os\n",
    "import json\n",
    "import numpy as np\n",
    "from Levenshtein import distance, editops\n",
    "from Data import Dataset, ExampleSequence, TrainingExample, EvalDataset\n",
    "import sys\n",
    "import difflib\n",
    "\n",
    "\n",
    "def write_file_dict_to_file(path, file_dict):\n",
    "    lines = []\n",
    "    for k in file_dict.keys():\n",
    "        lines += [os.path.join(k, x) for x in file_dict[k]]\n",
    "    write_lines_to_file(path, lines)\n",
    "\n",
    "def write_lines_to_file(path, lines):\n",
    "    with open(path, 'w') as file:\n",
    "        for line in lines:\n",
    "            file.write(\"%s\\n\" % line)\n",
    "\n",
    "def write_dict_to_file(path, params):\n",
    "    with open(path, 'w') as file:\n",
    "        json.dump(params, file)"
   ]
  },
  {
   "cell_type": "code",
   "execution_count": 123,
   "metadata": {},
   "outputs": [],
   "source": [
    "dataset_path = '/home/lubonp/Downloads/train/'\n",
    "model_path = '/home/lubonp/praca_magisterska/Basecaller/basecaller/runs/2019-05-31T18:35:01.729989'"
   ]
  },
  {
   "cell_type": "code",
   "execution_count": 124,
   "metadata": {},
   "outputs": [],
   "source": [
    "dataset = EvalDataset(dataset_path)\n",
    "model = load_model(os.path.join(model_path, 'model.h5'), custom_objects={'<lambda>': lambda y_true, y_pred: y_pred})\n",
    "model = multi_gpu_model(model, gpus=2)"
   ]
  },
  {
   "cell_type": "code",
   "execution_count": 125,
   "metadata": {},
   "outputs": [],
   "source": [
    "batch_size = 150\n",
    "segment_length = 300\n",
    "window_offset = segment_length // 10\n",
    "def idx_to_label(index_list):\n",
    "    bases = ['A', 'C', 'G', 'T']\n",
    "    return [bases[x] for x in index_list]"
   ]
  },
  {
   "cell_type": "code",
   "execution_count": 126,
   "metadata": {},
   "outputs": [],
   "source": [
    "def simple_assembly(bpreads):\n",
    "    concensus = np.zeros([4,1000])\n",
    "    pos = 0\n",
    "    length = 0\n",
    "    census_len = 1000\n",
    "    for indx,bpread in enumerate(bpreads):\n",
    "        if indx==0:\n",
    "            add_count(concensus,0,bpread)\n",
    "            continue\n",
    "        d = difflib.SequenceMatcher(None,bpreads[indx-1],bpread)\n",
    "        match_block = max(d.get_matching_blocks(),key = lambda x:x[2])\n",
    "        disp = match_block[0]-match_block[1]\n",
    "        if disp+pos+len(bpreads[indx])>census_len:\n",
    "            concensus = np.lib.pad(concensus,((0,0),(0,1000)),mode = 'constant',constant_values = 0)\n",
    "            census_len +=1000\n",
    "        add_count(concensus,pos+disp,bpreads[indx])\n",
    "        pos+=disp\n",
    "        length = max(length,pos+len(bpreads[indx]))\n",
    "    return concensus[:,:length]\n",
    "    \n",
    "def add_count(concensus,start_indx,segment):\n",
    "    base_dict = {'A':0,'C':1,'G':2,'T':3,'a':0,'c':1,'g':2,'t':3}\n",
    "    if start_indx<0:\n",
    "        segment = segment[-start_indx:]\n",
    "        start_indx = 0\n",
    "    for i,base in enumerate(segment):\n",
    "        concensus[base_dict[base]][start_indx+i] += 1"
   ]
  },
  {
   "cell_type": "code",
   "execution_count": 127,
   "metadata": {},
   "outputs": [],
   "source": [
    "sub_model = model.get_layer('model_2')\n",
    "sub_model = sub_model.get_layer('model_1')\n",
    "im_model = Model(inputs=sub_model.get_input_at(0), outputs =sub_model.get_layer('activation_1').output)"
   ]
  },
  {
   "cell_type": "code",
   "execution_count": 129,
   "metadata": {},
   "outputs": [],
   "source": [
    "real = []\n",
    "predicted = []\n",
    "for f in range(1,11):\n",
    "    signal, real_label = dataset[f]\n",
    "    reads = []\n",
    "    for idx in range(0, len(signal)-(len(signal)%(batch_size*window_offset))-segment_length, batch_size*window_offset):\n",
    "        batch_signal = [signal[idx+i:idx+i+batch_size] for i in range(0, batch_size*window_offset, window_offset)]\n",
    "        for idx, s in enumerate(batch_signal):\n",
    "            batch_signal[idx] = np.pad(s, (0, segment_length-len(s)), mode='edge')\n",
    "        batch_signal_arr = np.expand_dims(np.stack(batch_signal).astype(np.float32), -1)\n",
    "        batch = {\n",
    "            'the_input':batch_signal_arr,\n",
    "            'input_length':np.full((batch_size,1), segment_length),\n",
    "            'label_length':np.full((batch_size,1), segment_length),\n",
    "            'the_labels':np.zeros((150, 300))\n",
    "        }\n",
    "        preds = im_model.predict_on_batch(batch)\n",
    "        val = K.ctc_decode(preds, np.full(150, segment_length), greedy=False)\n",
    "        decoded = K.eval(val[0][0])\n",
    "        bases = [''.join(idx_to_label(d)) for d in decoded]\n",
    "        reads += bases\n",
    "    assembly = simple_assembly(reads)\n",
    "    c_bpread = idx_to_label(np.argmax(assembly,axis = 0))\n",
    "    real.append(''.join(real_label))\n",
    "    predicted.append(''.join(c_bpread))"
   ]
  },
  {
   "cell_type": "code",
   "execution_count": 130,
   "metadata": {},
   "outputs": [
    {
     "data": {
      "text/plain": [
       "[8178, 2178, 8311, 1677, 377, 3498, 1296, 1585, 8390, 6268]"
      ]
     },
     "execution_count": 130,
     "metadata": {},
     "output_type": "execute_result"
    }
   ],
   "source": [
    "[len(x) for x in real]"
   ]
  },
  {
   "cell_type": "code",
   "execution_count": 134,
   "metadata": {},
   "outputs": [
    {
     "data": {
      "text/plain": [
       "[1912, 331, 1882, 379, 0, 642, 291, 315, 1704, 1083]"
      ]
     },
     "execution_count": 134,
     "metadata": {},
     "output_type": "execute_result"
    }
   ],
   "source": [
    "[len(x) for x in predicted]"
   ]
  },
  {
   "cell_type": "code",
   "execution_count": 139,
   "metadata": {},
   "outputs": [
    {
     "data": {
      "text/plain": [
       "'CTATGTTTTGTGATGCATTCTATCAGCATGACTATGATTTTCTTTTTTTTTTTTTTTTTTGATAGTCAATTGTTTTTTTTTTTTCTATCTCTGACTGTTCTGTCTTTATTTTTTTTTTTTTTTTTTTTTTTTTTCTCATAGTCTGTTATGATATTGCTGTGATATACTCGTGATCGTTTATCTTTTTTTTTTTTTTTGATAATGTCAGATTTTTTTTTTTGATGTTTTTTTTTTTTTTTTTTTTTTCTTTGTTTTTTTTTTTTTTTTTTTTTTTTCTTTTTTTTTTTTTTTTTTTTTTTTTTTATAGATACTCTGATGTTTTTTTTTTATTCTTCTACGACTATATTTTTTTTTTTTTTTTTTTTTGTTTTTTTTTTTTTTTTTTTTTTTTTTTTTTTTTTTTTTTTTTTTTTTTTTTTCTTTTTTTTTTTTTTTTTTTTTTTTTTATTTGATATTTTGATCTTTTTTTTTTTTTTTTTCTTTTTTTTTTTTTTTTCGAATATGATTTTTCTTTGTTTTTATTTTTTTTTTTTATTTTTTTTTTTTGATGTTTTTTTTTTTTTTTTTTTTTTTTTTTTTTTTTTTTTTTTTTTTTTTTTTTTGATTTGTTATATTTTTTTTTTTTTTTTTTTTTTTTTTTTTTTTTTTTTTTTTTTTTTTTTTTTTTTTTTCTTTTTATTTTTTTTTTTTTTTTTTTTATTTTTTTTTTTATTTTTTTTTTTTTTTTTTTTTTTTCTTTTTTTTTTTTTTTTTTAGTTTCATACTTATGTTTTTTTTTTTGTATGATCTATTTATTATATTTTTTTTTTTTTTTTTTCTGTTTGATGATCATTTTTTTGTAGAGTTTTTTTTTTTTTTTTGACGATATATATGATCTGTTAATATTTTTTTTTTTTTTTTTTTTTTTTTTTTTATATCTGACTATGATTTATTTTTTTTTTTTTTTTTTTTTTTTTTTTTTTTTTTTTTTTTGCTCACTGATCTCGTCTGTGTTTTTTTTTTTTTTTTTTTTTTTTTTTTTTTCGATTTATATTGATTGTTTTTTTTTTTTATTTTTTTTTTTTTATATCTTTATGTTTTTTTTTTTTTTTTTTTTTTTTTTTATGATCTATAGATTGTATATATATTTTTATTTTTTTTCTTTGTTTTTTTTTTTTTTTTTGTTATTTTTTTTTTTTTTTTTTTTTTTTTTTTGTATGTCGTTTATTTTGATCTAGACATTTGTTTGTTTTTTTTTTTTTTTTTATATTTTTTTTTTTTTTTTTTGTTTTTTTTTTTTTCTTTTTGTTTTTTTTTTTTATCTGTTTTAGATTTCGAACTTTATATTTTGTTCTTTTTTTTATTTATTTTTTTGTATGTTTTATCTACATTTATCTTTTTTTTTTTCATAATATCGTTTTTTTTCTTGTTTGTTGTTTTGTCATCTTTTTTTTTTTTTCTTGTGTTATTTTATATTTTTTTTTTTTTTTTATTATTTTTTTTTTTTTTTTATTTTTTTTTTTTTCACATGTATTTGTTTTATTTTTTTTTTTTTTTTTTTTTTTTTTGTCATATATTATTTTTTTTTTTTGTTTTTTTTTTTTTATTTTTTTTTTTTTTTTTTTTGTTTTATATGTTTTTTTTTTGTTTTTTATATTTATTATTTTTTTTTTTTTTTTTATTGTCATTTTTTTTTTTTTTTTTTTTTTTTTTTTTTTTTTTATATTATGTCGATTTTTTATTTTTTTTTTTTTTTTTTTTTTTTTTTTTTTTTATATTTTTTTTTTTTTTTTTTTTGTTCTTTTTTTTTTTTTTATATTTTATTTTTTTTTTTTTTTTTTTTTTTTTTTTTTATCGTTTTTTTTTTTTTTTTTTTTTTATTTTTTTTTTTTTTATTTTATTTGTATTTTTTTTTTTTTGTTTTTTTTTTTTT'"
      ]
     },
     "execution_count": 139,
     "metadata": {},
     "output_type": "execute_result"
    }
   ],
   "source": [
    "''.join(real[0])\n",
    "''.join(predicted[0])"
   ]
  },
  {
   "cell_type": "code",
   "execution_count": null,
   "metadata": {},
   "outputs": [],
   "source": []
  }
 ],
 "metadata": {
  "kernelspec": {
   "display_name": "Python 3",
   "language": "python",
   "name": "python3"
  },
  "language_info": {
   "codemirror_mode": {
    "name": "ipython",
    "version": 3
   },
   "file_extension": ".py",
   "mimetype": "text/x-python",
   "name": "python",
   "nbconvert_exporter": "python",
   "pygments_lexer": "ipython3",
   "version": "3.7.3"
  }
 },
 "nbformat": 4,
 "nbformat_minor": 2
}
